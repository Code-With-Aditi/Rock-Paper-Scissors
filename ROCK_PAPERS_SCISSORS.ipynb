{
  "nbformat": 4,
  "nbformat_minor": 0,
  "metadata": {
    "colab": {
      "name": "ROCK PAPERS SCISSORS.ipynb",
      "provenance": [],
      "authorship_tag": "ABX9TyM8p20kkW2ssr9E1C5J7QxD",
      "include_colab_link": true
    },
    "kernelspec": {
      "name": "python3",
      "display_name": "Python 3"
    },
    "language_info": {
      "name": "python"
    }
  },
  "cells": [
    {
      "cell_type": "markdown",
      "metadata": {
        "id": "view-in-github",
        "colab_type": "text"
      },
      "source": [
        "<a href=\"https://colab.research.google.com/github/Code-With-Aditi/Rock-Paper-Scissors/blob/main/ROCK_PAPERS_SCISSORS.ipynb\" target=\"_parent\"><img src=\"https://colab.research.google.com/assets/colab-badge.svg\" alt=\"Open In Colab\"/></a>"
      ]
    },
    {
      "cell_type": "code",
      "execution_count": 1,
      "metadata": {
        "colab": {
          "base_uri": "https://localhost:8080/"
        },
        "id": "hwrts9dlx2WE",
        "outputId": "b1d5ad4e-4b5e-4329-8a0c-414c59380f58"
      },
      "outputs": [
        {
          "output_type": "stream",
          "name": "stdout",
          "text": [
            "What's your choice? 'r' for rock, 'p' or paper, 's' for scissors\n",
            "s\n",
            "You won! \n"
          ]
        }
      ],
      "source": [
        "import random\n",
        "\n",
        "def play():\n",
        "  user= input(\"What's your choice? 'r' for rock, 'p' or paper, 's' for scissors\\n\")\n",
        "  computer= random.choice(['r', 'p', 's'])\n",
        "\n",
        "  if user == computer:\n",
        "    return 'It\\'s a tie'\n",
        "\n",
        "    # r > s , s > p , p > r\n",
        "\n",
        "  if is_win(user,computer):\n",
        "   return 'You won! '\n",
        "\n",
        "   return 'You Lost! '\n",
        "\n",
        "def is_win(player,opponent):\n",
        "  #returns True if player wins\n",
        "  # r > s , s > p , p > r\n",
        "  if(player=='r' and opponent=='s') or (player=='s' and opponent=='p') \\\n",
        "  or (player=='p' and opponent=='r'):\n",
        "    return True\n",
        "\n",
        "print(play())"
      ]
    },
    {
      "cell_type": "code",
      "source": [
        ""
      ],
      "metadata": {
        "id": "FAmg7xrI3XAY"
      },
      "execution_count": null,
      "outputs": []
    }
  ]
}